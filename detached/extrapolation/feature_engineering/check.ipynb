{
 "cells": [
  {
   "cell_type": "code",
   "execution_count": 2,
   "id": "752f7207",
   "metadata": {},
   "outputs": [],
   "source": [
    "import pandas as pd\n",
    "import geopandas as gpd\n",
    "import numpy as np"
   ]
  },
  {
   "cell_type": "code",
   "execution_count": 6,
   "id": "ba214c84",
   "metadata": {},
   "outputs": [],
   "source": [
    "geomap_path = \"G:/マイドライブ/akiyamalab/オープン住宅地図/dev_2025/extrapolation/data_processor/15204/basemap/15204.parquet\"\n",
    "geomap = gpd.read_parquet(geomap_path)"
   ]
  },
  {
   "cell_type": "code",
   "execution_count": 7,
   "id": "db6b8b42",
   "metadata": {},
   "outputs": [
    {
     "data": {
      "text/html": [
       "<div>\n",
       "<style scoped>\n",
       "    .dataframe tbody tr th:only-of-type {\n",
       "        vertical-align: middle;\n",
       "    }\n",
       "\n",
       "    .dataframe tbody tr th {\n",
       "        vertical-align: top;\n",
       "    }\n",
       "\n",
       "    .dataframe thead th {\n",
       "        text-align: right;\n",
       "    }\n",
       "</style>\n",
       "<table border=\"1\" class=\"dataframe\">\n",
       "  <thead>\n",
       "    <tr style=\"text-align: right;\">\n",
       "      <th></th>\n",
       "      <th>type</th>\n",
       "      <th>geometry</th>\n",
       "    </tr>\n",
       "  </thead>\n",
       "  <tbody>\n",
       "    <tr>\n",
       "      <th>0</th>\n",
       "      <td>堅ろう建物</td>\n",
       "      <td>POLYGON ((138.91021 37.57625, 138.91031 37.576...</td>\n",
       "    </tr>\n",
       "    <tr>\n",
       "      <th>1</th>\n",
       "      <td>堅ろう建物</td>\n",
       "      <td>POLYGON ((138.90833 37.57662, 138.90833 37.576...</td>\n",
       "    </tr>\n",
       "    <tr>\n",
       "      <th>2</th>\n",
       "      <td>堅ろう建物</td>\n",
       "      <td>POLYGON ((138.90751 37.57778, 138.90722 37.576...</td>\n",
       "    </tr>\n",
       "    <tr>\n",
       "      <th>3</th>\n",
       "      <td>普通建物</td>\n",
       "      <td>POLYGON ((138.91177 37.57708, 138.91219 37.576...</td>\n",
       "    </tr>\n",
       "    <tr>\n",
       "      <th>4</th>\n",
       "      <td>普通建物</td>\n",
       "      <td>POLYGON ((138.91075 37.57678, 138.91063 37.576...</td>\n",
       "    </tr>\n",
       "    <tr>\n",
       "      <th>...</th>\n",
       "      <td>...</td>\n",
       "      <td>...</td>\n",
       "    </tr>\n",
       "    <tr>\n",
       "      <th>74230</th>\n",
       "      <td>普通建物</td>\n",
       "      <td>POLYGON ((139.00556 37.67597, 139.00556 37.675...</td>\n",
       "    </tr>\n",
       "    <tr>\n",
       "      <th>74231</th>\n",
       "      <td>普通建物</td>\n",
       "      <td>POLYGON ((139.00651 37.67021, 139.00653 37.670...</td>\n",
       "    </tr>\n",
       "    <tr>\n",
       "      <th>74232</th>\n",
       "      <td>普通建物</td>\n",
       "      <td>POLYGON ((139.00103 37.66667, 139.00106 37.666...</td>\n",
       "    </tr>\n",
       "    <tr>\n",
       "      <th>74233</th>\n",
       "      <td>普通無壁舎</td>\n",
       "      <td>POLYGON ((139.00000 37.67250, 139.00000 37.672...</td>\n",
       "    </tr>\n",
       "    <tr>\n",
       "      <th>74234</th>\n",
       "      <td>普通建物</td>\n",
       "      <td>POLYGON ((139.00181 37.66667, 139.00182 37.666...</td>\n",
       "    </tr>\n",
       "  </tbody>\n",
       "</table>\n",
       "<p>74235 rows × 2 columns</p>\n",
       "</div>"
      ],
      "text/plain": [
       "        type                                           geometry\n",
       "0      堅ろう建物  POLYGON ((138.91021 37.57625, 138.91031 37.576...\n",
       "1      堅ろう建物  POLYGON ((138.90833 37.57662, 138.90833 37.576...\n",
       "2      堅ろう建物  POLYGON ((138.90751 37.57778, 138.90722 37.576...\n",
       "3       普通建物  POLYGON ((138.91177 37.57708, 138.91219 37.576...\n",
       "4       普通建物  POLYGON ((138.91075 37.57678, 138.91063 37.576...\n",
       "...      ...                                                ...\n",
       "74230   普通建物  POLYGON ((139.00556 37.67597, 139.00556 37.675...\n",
       "74231   普通建物  POLYGON ((139.00651 37.67021, 139.00653 37.670...\n",
       "74232   普通建物  POLYGON ((139.00103 37.66667, 139.00106 37.666...\n",
       "74233  普通無壁舎  POLYGON ((139.00000 37.67250, 139.00000 37.672...\n",
       "74234   普通建物  POLYGON ((139.00181 37.66667, 139.00182 37.666...\n",
       "\n",
       "[74235 rows x 2 columns]"
      ]
     },
     "execution_count": 7,
     "metadata": {},
     "output_type": "execute_result"
    }
   ],
   "source": [
    "geomap"
   ]
  },
  {
   "cell_type": "code",
   "execution_count": 5,
   "id": "55501d4b",
   "metadata": {},
   "outputs": [
    {
     "data": {
      "text/plain": [
       "0        9628.864920\n",
       "1        8708.381691\n",
       "2        8074.283716\n",
       "3        7888.336295\n",
       "4        6632.466656\n",
       "            ...     \n",
       "74189      29.293091\n",
       "74190      29.036904\n",
       "74191      26.182265\n",
       "74192      25.670797\n",
       "74193      25.114363\n",
       "Length: 61526, dtype: float64"
      ]
     },
     "execution_count": 5,
     "metadata": {},
     "output_type": "execute_result"
    }
   ],
   "source": [
    "geomap.to_crs(6676, inplace=True)\n",
    "geomap['area'] = geomap.area\n",
    "geomap = geomap[geomap['area'] >= 25] # 面積が25平方メートル以上のポリゴンのみを残す\n",
    "geomap.area"
   ]
  }
 ],
 "metadata": {
  "kernelspec": {
   "display_name": "opendetachedmap",
   "language": "python",
   "name": "python3"
  },
  "language_info": {
   "codemirror_mode": {
    "name": "ipython",
    "version": 3
   },
   "file_extension": ".py",
   "mimetype": "text/x-python",
   "name": "python",
   "nbconvert_exporter": "python",
   "pygments_lexer": "ipython3",
   "version": "3.10.14"
  }
 },
 "nbformat": 4,
 "nbformat_minor": 5
}
