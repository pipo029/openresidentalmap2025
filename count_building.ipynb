{
 "cells": [
  {
   "cell_type": "code",
   "execution_count": 1,
   "id": "640ce768",
   "metadata": {},
   "outputs": [],
   "source": [
    "import pandas as pd\n",
    "import geopandas as gpd"
   ]
  },
  {
   "cell_type": "code",
   "execution_count": 2,
   "id": "839e02c7",
   "metadata": {},
   "outputs": [],
   "source": [
    "widearea_basemap_path = \"//Akiyamalab_02/Akiyamalab02/DRM/prj_データセット開発/data/raw/基盤地図_建物/bld_poligon/all/基盤地図建物ポリゴン_全国.parquet\"\n",
    "widearea_basemap = gpd.read_parquet(widearea_basemap_path)  "
   ]
  },
  {
   "cell_type": "code",
   "execution_count": 6,
   "id": "675d6816",
   "metadata": {},
   "outputs": [],
   "source": [
    "gov_area_path = \"G:/マイドライブ/akiyamalab/オープン住宅地図/code_data/EDA/step1/行政区域レイヤ.geojson\"\n",
    "gov_area = gpd.read_file(gov_area_path)"
   ]
  },
  {
   "cell_type": "code",
   "execution_count": 10,
   "id": "e6eea4da",
   "metadata": {},
   "outputs": [],
   "source": [
    "widearea_basemap.to_crs(4326, inplace=True)\n",
    "gov_area.to_crs(4326, inplace=True)\n",
    "\n",
    "buildings_with_municipality = gpd.sjoin(\n",
    "    widearea_basemap, gov_area, how=\"inner\", predicate='within'\n",
    ")\n",
    "\n",
    "building_counts = buildings_with_municipality.groupby('JCODE').size()\n",
    "\n"
   ]
  },
  {
   "cell_type": "code",
   "execution_count": 13,
   "id": "a5dc45f0",
   "metadata": {},
   "outputs": [],
   "source": [
    "# 結果を整形してデータフレームに変換\n",
    "# reset_index() でインデックスのJCODEを列に戻し、'name'で新しい列名を指定\n",
    "building_counts_df = building_counts.reset_index(name='建物数')\n",
    "\n",
    "# 建物数で降順にソート\n",
    "sorted_building_counts = building_counts_df.sort_values(by='建物数', ascending=False)"
   ]
  },
  {
   "cell_type": "code",
   "execution_count": 14,
   "id": "9f21dbe4",
   "metadata": {},
   "outputs": [
    {
     "data": {
      "text/html": [
       "<div>\n",
       "<style scoped>\n",
       "    .dataframe tbody tr th:only-of-type {\n",
       "        vertical-align: middle;\n",
       "    }\n",
       "\n",
       "    .dataframe tbody tr th {\n",
       "        vertical-align: top;\n",
       "    }\n",
       "\n",
       "    .dataframe thead th {\n",
       "        text-align: right;\n",
       "    }\n",
       "</style>\n",
       "<table border=\"1\" class=\"dataframe\">\n",
       "  <thead>\n",
       "    <tr style=\"text-align: right;\">\n",
       "      <th></th>\n",
       "      <th>JCODE</th>\n",
       "      <th>建物数</th>\n",
       "    </tr>\n",
       "  </thead>\n",
       "  <tbody>\n",
       "    <tr>\n",
       "      <th>1291</th>\n",
       "      <td>28201</td>\n",
       "      <td>386266</td>\n",
       "    </tr>\n",
       "    <tr>\n",
       "      <th>1442</th>\n",
       "      <td>33202</td>\n",
       "      <td>339156</td>\n",
       "    </tr>\n",
       "    <tr>\n",
       "      <th>1818</th>\n",
       "      <td>46201</td>\n",
       "      <td>332131</td>\n",
       "    </tr>\n",
       "    <tr>\n",
       "      <th>817</th>\n",
       "      <td>16201</td>\n",
       "      <td>327889</td>\n",
       "    </tr>\n",
       "    <tr>\n",
       "      <th>495</th>\n",
       "      <td>10202</td>\n",
       "      <td>319124</td>\n",
       "    </tr>\n",
       "    <tr>\n",
       "      <th>...</th>\n",
       "      <td>...</td>\n",
       "      <td>...</td>\n",
       "    </tr>\n",
       "    <tr>\n",
       "      <th>1894</th>\n",
       "      <td>47358</td>\n",
       "      <td>241</td>\n",
       "    </tr>\n",
       "    <tr>\n",
       "      <th>1837</th>\n",
       "      <td>46303</td>\n",
       "      <td>232</td>\n",
       "    </tr>\n",
       "    <tr>\n",
       "      <th>816</th>\n",
       "      <td>15586</td>\n",
       "      <td>183</td>\n",
       "    </tr>\n",
       "    <tr>\n",
       "      <th>190</th>\n",
       "      <td>01697</td>\n",
       "      <td>42</td>\n",
       "    </tr>\n",
       "    <tr>\n",
       "      <th>193</th>\n",
       "      <td>01700</td>\n",
       "      <td>36</td>\n",
       "    </tr>\n",
       "  </tbody>\n",
       "</table>\n",
       "<p>1902 rows × 2 columns</p>\n",
       "</div>"
      ],
      "text/plain": [
       "      JCODE     建物数\n",
       "1291  28201  386266\n",
       "1442  33202  339156\n",
       "1818  46201  332131\n",
       "817   16201  327889\n",
       "495   10202  319124\n",
       "...     ...     ...\n",
       "1894  47358     241\n",
       "1837  46303     232\n",
       "816   15586     183\n",
       "190   01697      42\n",
       "193   01700      36\n",
       "\n",
       "[1902 rows x 2 columns]"
      ]
     },
     "execution_count": 14,
     "metadata": {},
     "output_type": "execute_result"
    }
   ],
   "source": [
    "sorted_building_counts"
   ]
  },
  {
   "cell_type": "code",
   "execution_count": 16,
   "id": "66fd1024",
   "metadata": {},
   "outputs": [
    {
     "data": {
      "text/html": [
       "<div>\n",
       "<style scoped>\n",
       "    .dataframe tbody tr th:only-of-type {\n",
       "        vertical-align: middle;\n",
       "    }\n",
       "\n",
       "    .dataframe tbody tr th {\n",
       "        vertical-align: top;\n",
       "    }\n",
       "\n",
       "    .dataframe thead th {\n",
       "        text-align: right;\n",
       "    }\n",
       "</style>\n",
       "<table border=\"1\" class=\"dataframe\">\n",
       "  <thead>\n",
       "    <tr style=\"text-align: right;\">\n",
       "      <th></th>\n",
       "      <th>JCODE</th>\n",
       "      <th>KEN</th>\n",
       "      <th>SICHO</th>\n",
       "      <th>GUN</th>\n",
       "      <th>SEIREI</th>\n",
       "      <th>SIKUCHOSON</th>\n",
       "      <th>CITY_ENG</th>\n",
       "      <th>P_NUM</th>\n",
       "      <th>H_NUM</th>\n",
       "      <th>Shape_Leng</th>\n",
       "      <th>Shape_Area</th>\n",
       "      <th>geometry</th>\n",
       "    </tr>\n",
       "  </thead>\n",
       "  <tbody>\n",
       "    <tr>\n",
       "      <th>1294</th>\n",
       "      <td>28201</td>\n",
       "      <td>兵庫県</td>\n",
       "      <td>None</td>\n",
       "      <td>None</td>\n",
       "      <td>None</td>\n",
       "      <td>姫路市</td>\n",
       "      <td>Himeji-shi</td>\n",
       "      <td>534127</td>\n",
       "      <td>242346</td>\n",
       "      <td>2.825723</td>\n",
       "      <td>0.0527</td>\n",
       "      <td>MULTIPOLYGON (((134.46282 34.59547, 134.46116 ...</td>\n",
       "    </tr>\n",
       "  </tbody>\n",
       "</table>\n",
       "</div>"
      ],
      "text/plain": [
       "      JCODE  KEN SICHO   GUN SEIREI SIKUCHOSON    CITY_ENG   P_NUM   H_NUM  \\\n",
       "1294  28201  兵庫県  None  None   None        姫路市  Himeji-shi  534127  242346   \n",
       "\n",
       "      Shape_Leng  Shape_Area  \\\n",
       "1294    2.825723      0.0527   \n",
       "\n",
       "                                               geometry  \n",
       "1294  MULTIPOLYGON (((134.46282 34.59547, 134.46116 ...  "
      ]
     },
     "execution_count": 16,
     "metadata": {},
     "output_type": "execute_result"
    }
   ],
   "source": [
    "gov_area[gov_area['JCODE'] == '28201']"
   ]
  }
 ],
 "metadata": {
  "kernelspec": {
   "display_name": "opendetachedmap",
   "language": "python",
   "name": "python3"
  },
  "language_info": {
   "codemirror_mode": {
    "name": "ipython",
    "version": 3
   },
   "file_extension": ".py",
   "mimetype": "text/x-python",
   "name": "python",
   "nbconvert_exporter": "python",
   "pygments_lexer": "ipython3",
   "version": "3.10.14"
  }
 },
 "nbformat": 4,
 "nbformat_minor": 5
}
