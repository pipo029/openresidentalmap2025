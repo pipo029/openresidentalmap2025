{
 "cells": [
  {
   "cell_type": "code",
   "execution_count": 1,
   "id": "410701fe",
   "metadata": {},
   "outputs": [
    {
     "name": "stdout",
     "output_type": "stream",
     "text": [
      "Pythonの実行パス: c:\\Users\\0141s\\anaconda3\\envs\\opendetachedmap\\python.exe\n",
      "Shapelyのバージョン: 2.0.4\n",
      "Shapelyのインストール場所: c:\\Users\\0141s\\anaconda3\\envs\\opendetachedmap\\lib\\site-packages\\shapely\\__init__.py\n"
     ]
    }
   ],
   "source": [
    "import sys\n",
    "import shapely\n",
    "\n",
    "# 1. 実際にこのコードが使っているPythonの場所\n",
    "print(f\"Pythonの実行パス: {sys.executable}\")\n",
    "\n",
    "# 2. そのPython環境が認識しているShapelyのバージョン\n",
    "print(f\"Shapelyのバージョン: {shapely.__version__}\")\n",
    "\n",
    "# 3. そのShapelyライブラリの場所\n",
    "print(f\"Shapelyのインストール場所: {shapely.__file__}\")\n",
    "\n",
    "# この下に、ご自身のコードを続ける\n",
    "# import geopandas as gpd\n",
    "# ..."
   ]
  }
 ],
 "metadata": {
  "kernelspec": {
   "display_name": "opendetachedmap",
   "language": "python",
   "name": "python3"
  },
  "language_info": {
   "codemirror_mode": {
    "name": "ipython",
    "version": 3
   },
   "file_extension": ".py",
   "mimetype": "text/x-python",
   "name": "python",
   "nbconvert_exporter": "python",
   "pygments_lexer": "ipython3",
   "version": "3.10.14"
  }
 },
 "nbformat": 4,
 "nbformat_minor": 5
}
