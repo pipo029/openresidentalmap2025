{
 "cells": [
  {
   "cell_type": "code",
   "execution_count": null,
   "id": "9102fb82",
   "metadata": {},
   "outputs": [],
   "source": [
    "Mermaid"
   ]
  }
 ],
 "metadata": {
  "language_info": {
   "name": "python"
  }
 },
 "nbformat": 4,
 "nbformat_minor": 5
}
